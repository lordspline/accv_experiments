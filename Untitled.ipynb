{
 "cells": [
  {
   "cell_type": "code",
   "execution_count": 3,
   "id": "bc5555c7-f5bf-4c10-9f94-55cbb1aa5165",
   "metadata": {},
   "outputs": [],
   "source": [
    "import torch\n",
    "import torch.nn as nn"
   ]
  },
  {
   "cell_type": "code",
   "execution_count": 5,
   "id": "5fa5d537-397d-4f7e-b88b-817017125c95",
   "metadata": {},
   "outputs": [],
   "source": [
    "model = nn.Sequential(\n",
    "    nn.Conv2d(in_channels=3, out_channels=16, kernel_size=3),\n",
    "    nn.Conv2d(in_channels=16, out_channels=32, kernel_size=3),\n",
    "    nn.Conv2d(in_channels=32, out_channels=32, kernel_size=3),\n",
    "    nn.Conv2d(in_channels=32, out_channels=32, kernel_size=3)\n",
    ")"
   ]
  },
  {
   "cell_type": "code",
   "execution_count": 10,
   "id": "7c901c03-a779-4468-a3cb-435eeab3672a",
   "metadata": {},
   "outputs": [],
   "source": [
    "i = torch.randn(size = (3,224,224))"
   ]
  },
  {
   "cell_type": "code",
   "execution_count": 12,
   "id": "b9293f3f-a294-42f7-aba3-f04e67ebd783",
   "metadata": {},
   "outputs": [],
   "source": [
    "o = model(i)"
   ]
  },
  {
   "cell_type": "code",
   "execution_count": 13,
   "id": "0d21eefa-0206-4760-8949-59b8f633ff5a",
   "metadata": {},
   "outputs": [
    {
     "data": {
      "text/plain": [
       "torch.Size([32, 216, 216])"
      ]
     },
     "execution_count": 13,
     "metadata": {},
     "output_type": "execute_result"
    }
   ],
   "source": [
    "o.shape"
   ]
  },
  {
   "cell_type": "code",
   "execution_count": null,
   "id": "9ac57d86-b5b8-4244-a02f-2a8513861107",
   "metadata": {},
   "outputs": [],
   "source": []
  },
  {
   "cell_type": "code",
   "execution_count": null,
   "id": "ab8fdcd4-12eb-493d-a2c2-023a5a143c62",
   "metadata": {},
   "outputs": [],
   "source": []
  },
  {
   "cell_type": "code",
   "execution_count": 17,
   "id": "1ae56503-cfda-460f-b6cb-cd00ef9da089",
   "metadata": {},
   "outputs": [],
   "source": [
    "model2 = nn.Sequential(\n",
    "    nn.Conv2d(in_channels=3, out_channels=16, kernel_size=3),\n",
    "    nn.Conv2d(in_channels=16, out_channels=32, kernel_size=3, dilation=2),\n",
    "    nn.Conv2d(in_channels=32, out_channels=32, kernel_size=3, dilation=2),\n",
    "    nn.Conv2d(in_channels=32, out_channels=32, kernel_size=3)\n",
    ")"
   ]
  },
  {
   "cell_type": "code",
   "execution_count": 18,
   "id": "e6e3bfe6-beb4-4a04-95cd-f8b9bc94d4fa",
   "metadata": {},
   "outputs": [],
   "source": [
    "o = model2(i)"
   ]
  },
  {
   "cell_type": "code",
   "execution_count": 19,
   "id": "d2e51834-cac9-4bd0-8fa8-b528e9bb3834",
   "metadata": {},
   "outputs": [
    {
     "data": {
      "text/plain": [
       "torch.Size([32, 212, 212])"
      ]
     },
     "execution_count": 19,
     "metadata": {},
     "output_type": "execute_result"
    }
   ],
   "source": [
    "o.shape"
   ]
  },
  {
   "cell_type": "code",
   "execution_count": null,
   "id": "fc964443-b978-4fd4-b01c-bebef90500cc",
   "metadata": {},
   "outputs": [],
   "source": []
  }
 ],
 "metadata": {
  "kernelspec": {
   "display_name": "Python 3 (ipykernel)",
   "language": "python",
   "name": "python3"
  },
  "language_info": {
   "codemirror_mode": {
    "name": "ipython",
    "version": 3
   },
   "file_extension": ".py",
   "mimetype": "text/x-python",
   "name": "python",
   "nbconvert_exporter": "python",
   "pygments_lexer": "ipython3",
   "version": "3.10.2"
  }
 },
 "nbformat": 4,
 "nbformat_minor": 5
}
